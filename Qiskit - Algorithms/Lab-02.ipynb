{
 "cells": [
  {
   "cell_type": "markdown",
   "metadata": {},
   "source": [
    "# Lab-02 : Grover's Algorithms\n",
    "**What Quantum Algorithm is and What advantages they provides over the classical algorithms ?**\n",
    "\n",
    "> A Qauntum Algorithm is a set of instrcution which runs of Quantum Computers, which exploits the concepts of qauntum mechanics like Superposition, entanglement and inferences while the classical algorithms run on our computers which uses the binary logics.\n",
    "\n",
    "Problems That we are going to solve using Grover's Algrithm i.e How a quantum computer approaches a problem vs Classical computers ? How to implement Grover's algorithms in qiskit ?.\n",
    "\n",
    "Lets we have unsorted list of N elements, and we have one element with us which is located in list somewhere and we needed to find that element.\n",
    "\n",
    "We model such problems using Oracle i.e black-box."
   ]
  },
  {
   "cell_type": "code",
   "execution_count": 1,
   "metadata": {},
   "outputs": [],
   "source": [
    "my_list = [1,2,3 ,4,5, 6,8,8,3,23,7,75,54,3]"
   ]
  },
  {
   "cell_type": "code",
   "execution_count": 2,
   "metadata": {},
   "outputs": [],
   "source": [
    "def my_oracle(my_input):\n",
    "    winner=7\n",
    "    if my_input is winner:\n",
    "        response = True\n",
    "    else:\n",
    "        response = False\n",
    "    return response\n",
    "    "
   ]
  },
  {
   "cell_type": "code",
   "execution_count": 3,
   "metadata": {},
   "outputs": [
    {
     "name": "stdout",
     "output_type": "stream",
     "text": [
      "Winner found at index :10\n",
      "11 calls to the Oracle used\n"
     ]
    }
   ],
   "source": [
    "for index, trial_number in enumerate(my_list):\n",
    "    if my_oracle(trial_number) is True:\n",
    "        print('Winner found at index :%i'%index)\n",
    "        print('%i calls to the Oracle used'%(index+1))\n",
    "        break\n",
    "        "
   ]
  },
  {
   "cell_type": "markdown",
   "metadata": {},
   "source": [
    "So, The complexity of finding our element is the $O(N)$ but on quantum computing $O(\\sqrt N )$"
   ]
  },
  {
   "cell_type": "markdown",
   "metadata": {},
   "source": [
    "### Quantum Circuits"
   ]
  },
  {
   "cell_type": "code",
   "execution_count": 22,
   "metadata": {},
   "outputs": [
    {
     "ename": "ModuleNotFoundError",
     "evalue": "No module named 'qiskit.qiskit_aer'",
     "output_type": "error",
     "traceback": [
      "\u001b[1;31m---------------------------------------------------------------------------\u001b[0m",
      "\u001b[1;31mModuleNotFoundError\u001b[0m                       Traceback (most recent call last)",
      "Cell \u001b[1;32mIn[22], line 2\u001b[0m\n\u001b[0;32m      1\u001b[0m \u001b[39mfrom\u001b[39;00m \u001b[39mqiskit\u001b[39;00m \u001b[39mimport\u001b[39;00m \u001b[39m*\u001b[39m\n\u001b[1;32m----> 2\u001b[0m \u001b[39mfrom\u001b[39;00m \u001b[39mqiskit\u001b[39;00m\u001b[39m.\u001b[39;00m\u001b[39mqiskit_aer\u001b[39;00m \u001b[39mimport\u001b[39;00m Aer\n\u001b[0;32m      3\u001b[0m \u001b[39mfrom\u001b[39;00m \u001b[39mqiskit\u001b[39;00m \u001b[39mimport\u001b[39;00m QuantumCircuit\n\u001b[0;32m      4\u001b[0m \u001b[39mimport\u001b[39;00m \u001b[39mmatplotlib\u001b[39;00m\u001b[39m.\u001b[39;00m\u001b[39mpyplot\u001b[39;00m \u001b[39mas\u001b[39;00m \u001b[39mplt\u001b[39;00m\n",
      "\u001b[1;31mModuleNotFoundError\u001b[0m: No module named 'qiskit.qiskit_aer'"
     ]
    }
   ],
   "source": [
    "from qiskit import *\n",
    "from qiskit.qiskit_aer import Aer\n",
    "from qiskit import QuantumCircuit\n",
    "import matplotlib.pyplot as plt\n",
    "import numpy as np"
   ]
  },
  {
   "cell_type": "code",
   "execution_count": 19,
   "metadata": {},
   "outputs": [
    {
     "data": {
      "image/png": "[encoded data removed]",
      "text/plain": [
       "<Figure size 203.683x200.667 with 1 Axes>"
      ]
     },
     "execution_count": 19,
     "metadata": {},
     "output_type": "execute_result"
    }
   ],
   "source": [
    "oracle = QuantumCircuit(2, name='oracle')\n",
    "oracle.cz(0,1)\n",
    "oracle.to_gate()\n",
    "oracle.draw(output='mpl')"
   ]
  },
  {
   "cell_type": "markdown",
   "metadata": {},
   "source": [
    "### Superposition"
   ]
  },
  {
   "cell_type": "code",
   "execution_count": 20,
   "metadata": {},
   "outputs": [
    {
     "ename": "MissingOptionalLibraryError",
     "evalue": "\"The 'qiskit-aer' library is required to use 'Aer provider'. You can install it with 'pip install qiskit-aer'.\"",
     "output_type": "error",
     "traceback": [
      "\u001b[1;31m---------------------------------------------------------------------------\u001b[0m",
      "\u001b[1;31mImportError\u001b[0m                               Traceback (most recent call last)",
      "File \u001b[1;32mc:\\Users\\irpra\\miniconda3\\envs\\Quanta\\Lib\\site-packages\\qiskit\\__init__.py:123\u001b[0m, in \u001b[0;36mAerWrapper.__getattr__\u001b[1;34m(self, attr)\u001b[0m\n\u001b[0;32m    122\u001b[0m \u001b[39mtry\u001b[39;00m:\n\u001b[1;32m--> 123\u001b[0m     \u001b[39mfrom\u001b[39;00m \u001b[39mqiskit\u001b[39;00m\u001b[39m.\u001b[39;00m\u001b[39mproviders\u001b[39;00m \u001b[39mimport\u001b[39;00m aer\n\u001b[0;32m    125\u001b[0m     \u001b[39mself\u001b[39m\u001b[39m.\u001b[39maer \u001b[39m=\u001b[39m aer\u001b[39m.\u001b[39mAer\n",
      "\u001b[1;31mImportError\u001b[0m: cannot import name 'aer' from 'qiskit.providers' (c:\\Users\\irpra\\miniconda3\\envs\\Quanta\\Lib\\site-packages\\qiskit\\providers\\__init__.py)",
      "\nThe above exception was the direct cause of the following exception:\n",
      "\u001b[1;31mMissingOptionalLibraryError\u001b[0m               Traceback (most recent call last)",
      "Cell \u001b[1;32mIn[20], line 1\u001b[0m\n\u001b[1;32m----> 1\u001b[0m backend \u001b[39m=\u001b[39m Aer\u001b[39m.\u001b[39;49mget_backend(\u001b[39m'\u001b[39m\u001b[39mstatevector_simulator\u001b[39m\u001b[39m'\u001b[39m)\n\u001b[0;32m      2\u001b[0m grover_circ \u001b[39m=\u001b[39m QuantumCircuit(\u001b[39m2\u001b[39m,\u001b[39m2\u001b[39m)\n\u001b[0;32m      3\u001b[0m grover_circ\u001b[39m.\u001b[39mh(\u001b[39m0\u001b[39m)\n",
      "File \u001b[1;32mc:\\Users\\irpra\\miniconda3\\envs\\Quanta\\Lib\\site-packages\\qiskit\\__init__.py:134\u001b[0m, in \u001b[0;36mAerWrapper.__getattr__\u001b[1;34m(self, attr)\u001b[0m\n\u001b[0;32m    126\u001b[0m         warnings\u001b[39m.\u001b[39mwarn(\n\u001b[0;32m    127\u001b[0m             \u001b[39m\"\u001b[39m\u001b[39mThe qiskit.Aer entry point will be deprecated in a future release and \u001b[39m\u001b[39m\"\u001b[39m\n\u001b[0;32m    128\u001b[0m             \u001b[39m\"\u001b[39m\u001b[39msubsequently removed. Instead you should use this \u001b[39m\u001b[39m\"\u001b[39m\n\u001b[1;32m   (...)\u001b[0m\n\u001b[0;32m    131\u001b[0m             stacklevel\u001b[39m=\u001b[39m\u001b[39m2\u001b[39m,\n\u001b[0;32m    132\u001b[0m         )\n\u001b[0;32m    133\u001b[0m     \u001b[39mexcept\u001b[39;00m \u001b[39mImportError\u001b[39;00m \u001b[39mas\u001b[39;00m ex:\n\u001b[1;32m--> 134\u001b[0m         \u001b[39mraise\u001b[39;00m MissingOptionalLibraryError(\n\u001b[0;32m    135\u001b[0m             \u001b[39m\"\u001b[39m\u001b[39mqiskit-aer\u001b[39m\u001b[39m\"\u001b[39m, \u001b[39m\"\u001b[39m\u001b[39mAer provider\u001b[39m\u001b[39m\"\u001b[39m, \u001b[39m\"\u001b[39m\u001b[39mpip install qiskit-aer\u001b[39m\u001b[39m\"\u001b[39m\n\u001b[0;32m    136\u001b[0m         ) \u001b[39mfrom\u001b[39;00m \u001b[39mex\u001b[39;00m\n\u001b[0;32m    137\u001b[0m \u001b[39mreturn\u001b[39;00m \u001b[39mgetattr\u001b[39m(\u001b[39mself\u001b[39m\u001b[39m.\u001b[39maer, attr)\n",
      "\u001b[1;31mMissingOptionalLibraryError\u001b[0m: \"The 'qiskit-aer' library is required to use 'Aer provider'. You can install it with 'pip install qiskit-aer'.\""
     ]
    }
   ],
   "source": [
    "backend = Aer.get_backend('statevector_simulator')\n",
    "grover_circ = QuantumCircuit(2,2)\n",
    "grover_circ.h(0)\n",
    "grover_circ.append(oracle,[0,1])\n",
    "grover_circ.draw(output='mpl')"
   ]
  },
  {
   "cell_type": "code",
   "execution_count": null,
   "metadata": {},
   "outputs": [],
   "source": [
    "job = execute(grover_circ, backend)\n",
    "result = job.result()"
   ]
  },
  {
   "cell_type": "code",
   "execution_count": null,
   "metadata": {},
   "outputs": [],
   "source": [
    "sv = result.get_statevector()\n",
    "np.arount(sv, 2)"
   ]
  },
  {
   "cell_type": "markdown",
   "metadata": {},
   "source": [
    "### Amplification"
   ]
  },
  {
   "cell_type": "markdown",
   "metadata": {},
   "source": [
    "### Reflection Operator"
   ]
  },
  {
   "cell_type": "markdown",
   "metadata": {},
   "source": []
  }
 ],
 "metadata": {
  "kernelspec": {
   "display_name": "Quanta",
   "language": "python",
   "name": "quanta"
  },
  "language_info": {
   "codemirror_mode": {
    "name": "ipython",
    "version": 3
   },
   "file_extension": ".py",
   "mimetype": "text/x-python",
   "name": "python",
   "nbconvert_exporter": "python",
   "pygments_lexer": "ipython3",
   "version": "3.11.4"
  },
  "orig_nbformat": 4
 },
 "nbformat": 4,
 "nbformat_minor": 2
}
