{
 "cells": [
  {
   "cell_type": "markdown",
   "metadata": {},
   "source": [
    "## _*Using Qiskit Aqua's quantum evolution functionality*_\n",
    "\n",
    "This notebook demonstrates how to realize quantum evolution using the `Qiskit Aqua` library.\n",
    "\n",
    "Further information is available for the algorithms in the github repo aqua/readme.md\n",
    "\n",
    "First, an WeightedPauliOperator instance is created for our randomly generated Hamiltonian. We also randomly generate an initial quantum state `state_in`."
   ]
  },
  {
   "cell_type": "code",
   "execution_count": 1,
   "metadata": {},
   "outputs": [],
   "source": [
    "import numpy as np\n",
    "from scipy.linalg import expm\n",
    "from qiskit import BasicAer\n",
    "from qiskit import execute as q_execute\n",
    "from qiskit import QuantumCircuit, QuantumRegister\n",
    "from qiskit.quantum_info import state_fidelity\n",
    "from qiskit.aqua.operators import MatrixOperator, op_converter\n",
    "from qiskit.aqua.components.initial_states import Custom\n",
    "\n",
    "num_qubits = 2\n",
    "evo_time = 1\n",
    "temp = np.random.random((2 ** num_qubits, 2 ** num_qubits))\n",
    "h1 = temp + temp.T\n",
    "qubitOp = MatrixOperator(matrix=h1)\n",
    "state_in = Custom(num_qubits, state='random')"
   ]
  },
  {
   "cell_type": "markdown",
   "metadata": {},
   "source": [
    "With the operator and the initial state, we can easily compute the groundtruth evolution result as follows."
   ]
  },
  {
   "cell_type": "code",
   "execution_count": 2,
   "metadata": {},
   "outputs": [
    {
     "name": "stdout",
     "output_type": "stream",
     "text": [
      "The directly computed groundtruth evolution result state is\n",
      "[-0.52115696+0.33380779j -0.03365282+0.24949932j -0.53816051+0.37654038j\n",
      " -0.33346721-0.10481218j].\n"
     ]
    }
   ],
   "source": [
    "state_in_vec = state_in.construct_circuit('vector')\n",
    "groundtruth = expm(-1.j * h1 * evo_time) @ state_in_vec\n",
    "print('The directly computed groundtruth evolution result state is\\n{}.'.format(groundtruth))"
   ]
  },
  {
   "cell_type": "markdown",
   "metadata": {},
   "source": [
    "The `evolve` method as provided by the `MatrixOperator` class also provides the ability to compute the evolution groundtruth via the same matrix and vector multiplication. Therefore, we can also compute the evolution's groundtruth result state as follows, which we can easily verify to be the same as the `groundtruth` we just computed."
   ]
  },
  {
   "cell_type": "code",
   "execution_count": 3,
   "metadata": {},
   "outputs": [
    {
     "name": "stdout",
     "output_type": "stream",
     "text": [
      "The groundtruth evolution result as computed by the Dynamics algorithm is\n",
      "[-0.52115696+0.33380779j -0.03365282+0.24949932j -0.53816051+0.37654038j\n",
      " -0.33346721-0.10481218j].\n"
     ]
    }
   ],
   "source": [
    "groundtruth_evolution = qubitOp.evolve(state_in_vec, evo_time, num_time_slices=0)\n",
    "print('The groundtruth evolution result as computed by the Dynamics algorithm is\\n{}.'.format(groundtruth_evolution))\n",
    "np.testing.assert_allclose(groundtruth_evolution, groundtruth)"
   ]
  },
  {
   "cell_type": "markdown",
   "metadata": {},
   "source": [
    "Next, let's actually build the quantum circuit, which involves the circuit for putting the system in the specified initial state, and the actual `evolution` circuit corresponding to the operator we generated, for which, let's, for example, use the `3`rd order `suzuki` expansion.\n",
    "\n",
    "Furthermore, we need to convert `MatrixOperator` to `WeightedPauliOperator` to generate circuits for quantum device."
   ]
  },
  {
   "cell_type": "code",
   "execution_count": 4,
   "metadata": {},
   "outputs": [],
   "source": [
    "qubit_op = op_converter.to_weighted_pauli_operator(qubitOp)\n",
    "\n",
    "quantum_registers = QuantumRegister(qubit_op.num_qubits)\n",
    "circuit = state_in.construct_circuit('circuit', quantum_registers)\n",
    "circuit += qubit_op.evolve(\n",
    "    None, evo_time, num_time_slices=1,\n",
    "    quantum_registers=quantum_registers,\n",
    "    expansion_mode='suzuki',\n",
    "    expansion_order=3\n",
    ")"
   ]
  },
  {
   "cell_type": "code",
   "execution_count": 5,
   "metadata": {},
   "outputs": [
    {
     "data": {
      "image/png": "[encoded data removed]",
      "text/plain": [
       "<Figure size 635.213x144.48 with 1 Axes>"
      ]
     },
     "execution_count": 5,
     "metadata": {},
     "output_type": "execute_result"
    }
   ],
   "source": [
    "circuit.draw(output='mpl')"
   ]
  },
  {
   "cell_type": "markdown",
   "metadata": {},
   "source": [
    "With the circuit built, we can now execute the circuit to get the evolution result. We use the `statevector_simulator` backend for the purpose of this demonstration."
   ]
  },
  {
   "cell_type": "code",
   "execution_count": 6,
   "metadata": {},
   "outputs": [
    {
     "name": "stdout",
     "output_type": "stream",
     "text": [
      "The evolution result state from executing the Dynamics circuit is\n",
      "[ 0.46878654-0.40381906j -0.00219014-0.25176808j  0.47989299-0.44857662j\n",
      "  0.34500974+0.05681016j].\n"
     ]
    }
   ],
   "source": [
    "backend = BasicAer.get_backend('statevector_simulator')\n",
    "job = q_execute(circuit, backend)\n",
    "circuit_execution_result = np.asarray(job.result().get_statevector(circuit))\n",
    "print('The evolution result state from executing the Dynamics circuit is\\n{}.'.format(circuit_execution_result))"
   ]
  },
  {
   "cell_type": "markdown",
   "metadata": {},
   "source": [
    "We can then check the fidelity between the `groundtruth` and the `circuit_execution_result`."
   ]
  },
  {
   "cell_type": "code",
   "execution_count": 7,
   "metadata": {},
   "outputs": [
    {
     "name": "stdout",
     "output_type": "stream",
     "text": [
      "Fidelity between the groundtruth and the circuit result states is 0.9999998118796289.\n"
     ]
    }
   ],
   "source": [
    "print('Fidelity between the groundtruth and the circuit result states is {}.'.format(\n",
    "    state_fidelity(groundtruth, circuit_execution_result)\n",
    "))"
   ]
  },
  {
   "cell_type": "markdown",
   "metadata": {},
   "source": [
    "As seen, the fidelity is very close to `1`, indicating that the quantum circuit produced is a good approximation of the intended evolution."
   ]
  },
  {
   "cell_type": "code",
   "execution_count": null,
   "metadata": {},
   "outputs": [],
   "source": []
  }
 ],
 "metadata": {
  "kernelspec": {
   "display_name": "Python 3",
   "language": "python",
   "name": "python3"
  },
  "language_info": {
   "codemirror_mode": {
    "name": "ipython",
    "version": 3
   },
   "file_extension": ".py",
   "mimetype": "text/x-python",
   "name": "python",
   "nbconvert_exporter": "python",
   "pygments_lexer": "ipython3",
   "version": "3.7.4"
  }
 },
 "nbformat": 4,
 "nbformat_minor": 1
}
